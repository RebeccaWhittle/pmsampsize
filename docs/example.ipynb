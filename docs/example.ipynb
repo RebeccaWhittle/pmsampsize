{
 "cells": [
  {
   "cell_type": "markdown",
   "metadata": {},
   "source": [
    "# Example usage\n",
    "\n",
    "Examples based on those included in two papers by Riley et al. published in Statistics in Medicine (2018). NB: Survival example based on Riley et al. BMJ paper (2020)."
   ]
  },
  {
   "cell_type": "markdown",
   "metadata": {},
   "source": [
    "# Imports"
   ]
  },
  {
   "cell_type": "code",
   "execution_count": 1,
   "metadata": {},
   "outputs": [],
   "source": [
    "from pmsampsize.pmsampsize import *"
   ]
  },
  {
   "cell_type": "markdown",
   "metadata": {},
   "source": [
    "# Details\n",
    "\n",
    "`pmsampsize` can be used to calculate the minimum sample size for the development of models with continuous, binary or survival (time-to-event) outcomes. Riley et al. lay out a series of criteria the sample size should meet. These aim to minimise the overfitting and to ensure precise estimation of key parameters in the prediction model. \n",
    "\n",
    "For continuous outcomes, there are four criteria: \n",
    "- small overfitting defined by an expected shrinkage of predictor effects by 10% or less, \n",
    "- small absolute difference of 0.05 in the model’s apparent and adjusted R-squared value, \n",
    "- precise estimation of the residual standard deviation, and \n",
    "- precise estimation of the average outcome value. \n",
    "\n",
    "The sample size calculation requires the user to pre-specify (e.g. based on previous evidence) the anticipated R-squared of the model, and the average outcome value and standard deviation of outcome values in the population of interest. \n",
    "\n",
    "For binary or survival (time-to-event) outcomes, there are three criteria: \n",
    "- small overfitting defined by an expected shrinkage of predictor effects by 10% or less, \n",
    "- small absolute difference of 0.05 in the model’s apparent and adjusted Nagelkerke’s R-squared value, and \n",
    "- precise estimation (within +/- 0.05) of the average outcome risk in the population for a key timepoint of interest for prediction.\n",
    "\n",
    "The `pmsampsize` Python pacakge is based on the original R package developed by Joie Ensor.   "
   ]
  },
  {
   "cell_type": "markdown",
   "metadata": {},
   "source": [
    "# Binary outcomes (Logistic prediction models)\n",
    "\n",
    "Use pmsampsize to calculate the minimum sample size required to develop a multivariable prediction model for a binary outcome using 24 candidate predictor parameters. Based on previous evidence, the outcome prevalence is anticipated to be 0.174 (17.4%) and a lower bound (taken from the adjusted Cox-Snell R-squared of an existing prediction model) for the new model's R-squared value is 0.288."
   ]
  },
  {
   "cell_type": "code",
   "execution_count": 3,
   "metadata": {},
   "outputs": [
    {
     "name": "stdout",
     "output_type": "stream",
     "text": [
      "NB: Assuming 0.05 acceptable difference in apparent & adjusted R-squared\n",
      "NB: Assuming 0.05 margin of error in estimation of intercept\n",
      "NB: Events per Predictor Parameter (EPP) assumes prevalence = 0.174 \n",
      "\n",
      "Criteria      Sample size    Shrinkage    Parameter    CS_Rsq    Max_Rsq    Nag_Rsq    EPP\n",
      "----------  -------------  -----------  -----------  --------  ---------  ---------  -----\n",
      "Criteria 1            623          0.9           24     0.288      0.603      0.477   4.52\n",
      "Criteria 2            662        0.905           24     0.288      0.603      0.477    4.8\n",
      "Criteria 3            221        0.905           24     0.288      0.603      0.477    1.6\n",
      "----------  -------------  -----------  -----------  --------  ---------  ---------  -----\n",
      "Final SS              662        0.905           24     0.288      0.603      0.477    4.8\n",
      " \n",
      "Minimum sample size required for new model development based on user inputs = 662\n",
      "with 116 events (assuming an outcome prevalence = 0.174) and an EPP = 4.8 \n",
      "\n",
      "\n"
     ]
    }
   ],
   "source": [
    "samplesize = pmsampsize(type = \"b\", csrsquared = 0.288, parameters = 24, prevalence = 0.174)"
   ]
  },
  {
   "cell_type": "markdown",
   "metadata": {},
   "source": [
    "Now lets assume we could not obtain a Cox-Snell R-squared estimate from an existing prediction model, but instead had a C-statistic (0.89) reported for the existing prediction model. We can use this C-statistic along with the prevalence to approximate the Cox-Snell R-squared using the approach of Riley et al. (2020). Use pmsampsize with the cstatistic() option instead of rsquared() option."
   ]
  },
  {
   "cell_type": "code",
   "execution_count": 4,
   "metadata": {},
   "outputs": [
    {
     "name": "stdout",
     "output_type": "stream",
     "text": [
      "Given input C-statistic = 0.89  & prevalence = 0.174\n",
      "Cox-Snell R-sq = 0.2908 \n",
      "\n",
      "NB: Assuming 0.05 acceptable difference in apparent & adjusted R-squared\n",
      "NB: Assuming 0.05 margin of error in estimation of intercept\n",
      "NB: Events per Predictor Parameter (EPP) assumes prevalence = 0.174 \n",
      "\n",
      "Criteria      Sample size    Shrinkage    Parameter    CS_Rsq    Max_Rsq    Nag_Rsq    EPP\n",
      "----------  -------------  -----------  -----------  --------  ---------  ---------  -----\n",
      "Criteria 1            615          0.9           24    0.2908      0.603      0.482   4.46\n",
      "Criteria 2            660        0.906           24    0.2908      0.603      0.482   4.78\n",
      "Criteria 3            221        0.906           24    0.2908      0.603      0.482    1.6\n",
      "----------  -------------  -----------  -----------  --------  ---------  ---------  -----\n",
      "Final SS              660        0.906           24    0.2908      0.603      0.482   4.78\n",
      " \n",
      "Minimum sample size required for new model development based on user inputs = 660\n",
      "with 115 events (assuming an outcome prevalence = 0.174) and an EPP = 4.78 \n",
      "\n",
      "\n"
     ]
    }
   ],
   "source": [
    "samplesize = pmsampsize(type = \"b\", cstatistic = 0.89, parameters = 24, prevalence = 0.174)"
   ]
  },
  {
   "cell_type": "markdown",
   "metadata": {},
   "source": [
    "# Survival outcomes (Cox prediction models)\n",
    "\n",
    "Use pmsampsize to calculate the minimum sample size required for developing # a multivariable prediction model with a survival outcome using 30 candidate predictors. We know an existing prediction model in the same field has an R-squared adjusted of 0.051. Further, in the previous study the mean follow-up was 2.07 years, and overall event rate was 0.065. We select a timepoint of interest for prediction using the newly developed model of 2 years."
   ]
  },
  {
   "cell_type": "code",
   "execution_count": 5,
   "metadata": {},
   "outputs": [
    {
     "name": "stdout",
     "output_type": "stream",
     "text": [
      "\n",
      " NB: Assuming 0.05 acceptable difference in apparent & adjusted R-squared \n",
      " NB: Assuming 0.05 margin of error in estimation of overall risk at time point = 2 \n",
      " NB: Events per Predictor Parameter (EPP) assumes overall event rate = 0.065 \n",
      " \n",
      "\n",
      "Criteria       Sample size    Shrinkage    Parameter    CS_Rsq    Max_Rsq    Nag_Rsq    EPP\n",
      "-----------  -------------  -----------  -----------  --------  ---------  ---------  -----\n",
      "Criteria 1            5143          0.9           30     0.051      0.555      0.092  23.07\n",
      "Criteria 2            1039        0.648           30     0.051      0.555      0.092   4.66\n",
      "Criteria 3*           5143          0.9           30     0.051      0.555      0.092  23.07\n",
      "-----------  -------------  -----------  -----------  --------  ---------  ---------  -----\n",
      "Final SS              5143          0.9           30     0.051      0.555      0.092  23.07\n",
      "\n",
      "Minimum sample size required for new model development based on user inputs = 5143\n",
      "corresponding to 10646.0 person-time** of follow-up, with 692 outcome events\n",
      "assuming an overall event rate = 0.065 and therefore an EPP = 23.07\n",
      "* 95% CI for overall risk = (0.113, 0.13), for true value of 0.122 and sample size n = 5143\n",
      "(**where time is in the units mean follow-up time was specified in)\n"
     ]
    }
   ],
   "source": [
    "samplesize = pmsampsize(type = \"s\", csrsquared = 0.051, parameters = 30, rate = 0.065, timepoint = 2, meanfup = 2.07)"
   ]
  },
  {
   "cell_type": "markdown",
   "metadata": {},
   "source": [
    "# Continuous outcomes (Linear prediction models)\n",
    "\n",
    "Use pmsampsize to calculate the minimum sample size required for developing a multivariable prediction model for a continuous outcome (here, FEV1 say), using 25 candidate predictors. We know an existing prediction model in the same field has an R-squared adjusted of 0.2, and that FEV1 values in the population have a mean of 1.9 and SD of 0.6."
   ]
  },
  {
   "cell_type": "code",
   "execution_count": 6,
   "metadata": {},
   "outputs": [
    {
     "name": "stdout",
     "output_type": "stream",
     "text": [
      "\n",
      " NB: Assuming 0.05 acceptable difference in apparent & adjusted R-squared \n",
      " NB: Assuming MMOE <= 1.1 in estimation of intercept & residual standard deviation \n",
      " SPP - Subjects per Predictor Parameter \n",
      " \n",
      "\n",
      "Criteria      Sample size    Shrinkage    Parameter    Rsq    SPP\n",
      "----------  -------------  -----------  -----------  -----  -----\n",
      "Criteria 1            918          0.9           25    0.2  36.72\n",
      "Criteria 2            401        0.801           25    0.2  16.04\n",
      "Criteria 3            259        0.727           25    0.2  10.36\n",
      "Criteria 4            918          0.9           25    0.2  36.72\n",
      "----------  -------------  -----------  -----------  -----  -----\n",
      "Final SS              918          0.9           25    0.2  36.72\n",
      "\n",
      "Minimum sample size required for new model development based on user inputs = 918\n",
      "\n",
      "* 95% CI for intercept = (1.87, 1.93), for sample size n = 918\n"
     ]
    }
   ],
   "source": [
    "samplesize = pmsampsize(type = \"c\", rsquared = 0.2, parameters = 25, intercept = 1.9, sd = 0.6)"
   ]
  },
  {
   "cell_type": "markdown",
   "metadata": {},
   "source": [
    "# References\n",
    "\n",
    "Riley RD, Ensor J, Snell KIE, Harrell FE, Martin GP, Reitsma JB, et al. Calculating the sample size required for developing a clinical prediction model. BMJ (Clinical research ed). 2020. doi: 10.1136/bmj.m441 \n",
    "\n",
    "Riley RD, Snell KIE, Ensor J, Burke DL, Harrell FE, Jr., Moons KG, Collins GS. Minimum sample size required for developing a multivariable prediction model: Part I continuous outcomes. Statistics in Medicine. 2018. doi: 10.1002/sim.7993 \n",
    "\n",
    "Riley RD, Snell KIE, Ensor J, Burke DL, Harrell FE, Jr., Moons KG, Collins GS. Minimum sample size required for developing a multivariable prediction model: Part II binary and time-to-event outcomes. Statistics in Medicine. 2018. doi: 10.1002/sim.7992 \n",
    "\n",
    "Riley, RD, Van Calster, B, Collins, GS. A note on estimating the Cox-Snell R2 from a reported C statistic (AUROC) to inform sample size calculations for developing a prediction model with a binary outcome. Statistics in Medicine. 2020. doi: 10.1002/sim.8806"
   ]
  },
  {
   "cell_type": "code",
   "execution_count": null,
   "metadata": {},
   "outputs": [],
   "source": []
  }
 ],
 "metadata": {
  "kernelspec": {
   "display_name": "Python 3 (ipykernel)",
   "language": "python",
   "name": "python3"
  },
  "language_info": {
   "codemirror_mode": {
    "name": "ipython",
    "version": 3
   },
   "file_extension": ".py",
   "mimetype": "text/x-python",
   "name": "python",
   "nbconvert_exporter": "python",
   "pygments_lexer": "ipython3",
   "version": "3.12.11"
  }
 },
 "nbformat": 4,
 "nbformat_minor": 4
}
